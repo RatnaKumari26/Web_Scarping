{
 "cells": [
  {
   "cell_type": "code",
   "execution_count": 1,
   "id": "07e78e41",
   "metadata": {},
   "outputs": [],
   "source": [
    "import requests\n",
    "import pandas as pd\n",
    "from bs4 import BeautifulSoup\n",
    "from bs4.element import Tag, NavigableString\n",
    "\n",
    "import pandas as pd\n",
    "from tqdm import tqdm"
   ]
  },
  {
   "cell_type": "code",
   "execution_count": 2,
   "id": "7e8615ee",
   "metadata": {},
   "outputs": [],
   "source": [
    "def read_url_content_bs4(url):\n",
    "    source = requests.get(url)\n",
    "    soup = BeautifulSoup(source.content,'html.parser')\n",
    "    soup.prettify()\n",
    "    return soup "
   ]
  },
  {
   "cell_type": "code",
   "execution_count": 3,
   "id": "7fea2dea",
   "metadata": {},
   "outputs": [],
   "source": [
    "url= \"https://www.thehindu.com/news/national/telangana/aimim-hopes-to-create-muslim-leadership-in-up/article38260971.ece\"\n",
    "content = read_url_content_bs4(url)"
   ]
  },
  {
   "cell_type": "code",
   "execution_count": 4,
   "id": "4bc00c30",
   "metadata": {},
   "outputs": [],
   "source": [
    "def extract_para(soup_data):\n",
    "    \"\"\"extract the paragraph content present in the html source data in bs4.BeautifulSoup format. \n",
    "    \"\"\"\n",
    "    ## Find div[ids] for content-body id\n",
    "    ids = [tag['id'] for tag in soup_data.select('div[id]')]\n",
    "    content_body_id_name = [i for i in ids if \"content-body\" in i][0]\n",
    "    article_content = soup_data.find(\"div\",content_body_id_name)\n",
    "    ## Get the article element\n",
    "    article=soup_data.find('article')\n",
    "    summary=article.find(article_content)\n",
    "    \n",
    "    ## A empty list to stores content\n",
    "    all_content=[]\n",
    "    for i in summary.find_all(\"p\"):\n",
    "        for content in i.contents:\n",
    "            if isinstance(content, Tag):\n",
    "                all_content.append(content.string)\n",
    "            elif isinstance(content, NavigableString):\n",
    "                c = content.string.strip()\n",
    "                all_content.append(c)\n",
    "            else:\n",
    "                print(type(content))\n",
    "                break\n",
    "    final_para = \"\".join(map(str,all_content))\n",
    "    return final_para"
   ]
  },
  {
   "cell_type": "code",
   "execution_count": 5,
   "id": "e5215e72",
   "metadata": {},
   "outputs": [],
   "source": [
    "def extract_headline(soup_data):\n",
    "    tag = soup_data.find_all(\"h1\")[0]\n",
    "    headline = tag.text.strip()\n",
    "    return headline"
   ]
  },
  {
   "cell_type": "code",
   "execution_count": 6,
   "id": "ebdddf70",
   "metadata": {},
   "outputs": [],
   "source": [
    "def extract_reporter(soup_data):\n",
    "    author = soup_data.find(\"div\",class_=\"author-container hidden-xs\").find('a', class_=\"auth-nm lnk\").text\n",
    "    return author"
   ]
  },
  {
   "cell_type": "code",
   "execution_count": 7,
   "id": "e125a432",
   "metadata": {},
   "outputs": [],
   "source": [
    "def extract_state(soup_data):\n",
    "    state = soup_data.find(\"div\",class_=\"article-exclusive\").find('a',class_=\"section-name\").text.strip()\n",
    "    return state"
   ]
  },
  {
   "cell_type": "code",
   "execution_count": 8,
   "id": "e01554b2",
   "metadata": {},
   "outputs": [],
   "source": [
    "def extract_city(soup_data):\n",
    "    city = soup_data.find(\"div\",class_=\"ut-container\").find('span',class_=\"blue-color ksl-time-stamp dateline\").text.strip()\n",
    "    return city"
   ]
  },
  {
   "cell_type": "code",
   "execution_count": 9,
   "id": "2a174124",
   "metadata": {},
   "outputs": [],
   "source": [
    "def extract_date(soup_data):\n",
    "    date=soup_data.find(\"div\",class_=\"ut-container\").find('span',class_=\"blue-color ksl-time-stamp\").find('none').text\n",
    "    return date"
   ]
  },
  {
   "cell_type": "code",
   "execution_count": 10,
   "id": "aca94c65",
   "metadata": {},
   "outputs": [],
   "source": [
    "def extract_updated_date(soup_data):\n",
    "    updated_date=soup_data.find(\"div\",class_=\"teaser-text update-time\").find('span').find('none').text\n",
    "    return updated_date"
   ]
  },
  {
   "cell_type": "code",
   "execution_count": 11,
   "id": "df8f48be",
   "metadata": {},
   "outputs": [],
   "source": [
    "def extract_content_from_url(url):\n",
    "    content = read_url_content_bs4(url)\n",
    "    data = {}\n",
    "    data[\"headline\"] = extract_headline(content)\n",
    "    data[\"author\"] = extract_reporter(content)\n",
    "    data[\"state\"] = extract_state(content)\n",
    "    data[\"city\"] = extract_city(content)\n",
    "    data[\"date\"] = extract_date(content)\n",
    "    data[\"updated date\"] = extract_updated_date(content)\n",
    "    data[\"paragraph\"] = extract_para(content)\n",
    "    return data"
   ]
  },
  {
   "cell_type": "code",
   "execution_count": 12,
   "id": "00679322",
   "metadata": {},
   "outputs": [],
   "source": [
    "urls = [\"https://www.thehindu.com/news/national/telangana/aimim-hopes-to-create-muslim-leadership-in-up/article38260971.ece\", \n",
    "        \"https://www.thehindu.com/news/national/other-states/dissent-within-goa-bjp-on-taking-mgp-along-in-new-govt/article65214905.ece\", \n",
    "        \"https://www.thehindu.com/news/national/other-states/four-militants-killed-in-kashmir/article65216933.ece?homepage=true\",\n",
    "        \"https://www.thehindu.com/news/national/nia-arrests-six-over-trafficking-of-rohingya-muslims/article65217070.ece?homepage=true\",\n",
    "        \"https://www.thehindu.com/news/national/char-dham-road-project-sc-asks-ex-judge-sikri-to-head-panel/article65214798.ece\",\n",
    "        \"https://www.thehindu.com/news/national/lakhimpur-kheri-casefarmers-families-seek-urgent-hearing-of-plea-against-bail-to-union-ministers-son/article65213784.ece\",\n",
    "        \"https://www.thehindu.com/news/national/students-stranded-in-sumy-finally-return/article65214079.ece\",\n",
    "        \"https://www.thehindu.com/business/markets/gold-tumbles-200-silver-jumps-193/article65214314.ece\",\n",
    "        \"https://www.thehindu.com/business/Industry/indias-sugar-exports-accelerate-on-global-price-rally-weak-rupee/article65212106.ece\"]"
   ]
  },
  {
   "cell_type": "code",
   "execution_count": 13,
   "id": "cdb5b090",
   "metadata": {},
   "outputs": [],
   "source": [
    "content=read_url_content_bs4(url)"
   ]
  },
  {
   "cell_type": "code",
   "execution_count": 14,
   "id": "4913f21c",
   "metadata": {},
   "outputs": [
    {
     "data": {
      "text/plain": [
       "'The All India Majlis-e-Ittehadul Muslimeen threw itself into the fray in the election-bound State of Uttar Pradesh and has organised dozens of rallies and public meetings. The party has emphasised the importance of Muslim leadership in that State and underscored the socio-economic and political conditions of the minorities.Muslims in Uttar Pradesh constitute approximately 20% of the total population.At a recent public meeting in U.P., AIMIM party president Asaduddin Owaisi said, \"It is our objective to create a Muslim leadership and at the same time see to it that the BJP does not come to power and that Yogi Adityanath does not become the Chief Minister again.\"While urging people to vote for his party\\'s candidates, he said that the AIMIM would work with the people of U.P. He also stated that it is time for people of that State to come forward and become leaders and that he would stand behind them. He said that if the minorities want to remain politically relevant, they will have to discard political secularism, and at the same time pointed out that secularism as promised by the Constitution is needed. He criticised the Congress, BJP, and the Samajwadi Party for their approach towards Muslims and handling their issues.Speaking toThe Hindu, a party functionary said that the AIMIM is working in areas with a substantial population of Muslims. Additionally, a strong booth-level presence in Uttar Pradesh is also a contributing factor. Rampur, Balrampur, Asmoli, and Moradabad are constituencies where the party is likely to field candidates.\"In the last three or four months, there have been over 50 rallies, public meetings and interactions with people. In the previous UP elections in 2017, the party contested over 35 seats,\" said a party functionary. While it was reported that the party is likely to contest 100 seats, a clearer picture would emerge when the first list of candidates is released. According to those familiar with the unfolding situation, this is likely to happen in about a fortnight.Mr Owaisi has also sought to rely on data and its interpretation as done by the Centre for Development Policy and Practice (CDPP) to state that Muslims in Uttar Pradesh have not been appeased.With the Election Commission of India planning to review he COVID - 19 situation and halting rallies and public meetings, the party is waiting for a further announcement. Taking to Twitter, Mr Owaisi had said, “ We have taken up the challenge for #Elections2022 in Uttar Pradesh & inshallah we will fight with all of our strength. Hope that @ECISVEEP will review its guidelines post-15th. ECI must be mindful of the digital divide in India, especially in Uttar Pradesh.” He also pointed out that Uttar Pradesh has one of the lowest internet subscribers per 100 people.NoneNone\\nOur code of editorial values Printable version | Mar 3, 2022 4:48:52 am |\\nhttps://www.thehindu.com/news/national/telangana/aimim-hopes-to-create-muslim-leadership-in-up/article38260971.ece© THG PUBLISHING PVT LTD.'"
      ]
     },
     "execution_count": 14,
     "metadata": {},
     "output_type": "execute_result"
    }
   ],
   "source": [
    "para=extract_para(content)\n",
    "para"
   ]
  },
  {
   "cell_type": "code",
   "execution_count": 15,
   "id": "7d33b0b1",
   "metadata": {},
   "outputs": [
    {
     "name": "stderr",
     "output_type": "stream",
     "text": [
      "100%|█████████████████████████████████████████████| 9/9 [00:02<00:00,  4.02it/s]\n"
     ]
    }
   ],
   "source": [
    "content = [extract_content_from_url(i) for i in tqdm(urls)]"
   ]
  },
  {
   "cell_type": "code",
   "execution_count": 16,
   "id": "a4270ade",
   "metadata": {},
   "outputs": [
    {
     "data": {
      "text/plain": [
       "(9, 7)"
      ]
     },
     "execution_count": 16,
     "metadata": {},
     "output_type": "execute_result"
    }
   ],
   "source": [
    "df = pd.DataFrame(content)\n",
    "df.shape"
   ]
  },
  {
   "cell_type": "code",
   "execution_count": 17,
   "id": "3f11fbe8",
   "metadata": {},
   "outputs": [
    {
     "data": {
      "text/html": [
       "<div>\n",
       "<style scoped>\n",
       "    .dataframe tbody tr th:only-of-type {\n",
       "        vertical-align: middle;\n",
       "    }\n",
       "\n",
       "    .dataframe tbody tr th {\n",
       "        vertical-align: top;\n",
       "    }\n",
       "\n",
       "    .dataframe thead th {\n",
       "        text-align: right;\n",
       "    }\n",
       "</style>\n",
       "<table border=\"1\" class=\"dataframe\">\n",
       "  <thead>\n",
       "    <tr style=\"text-align: right;\">\n",
       "      <th></th>\n",
       "      <th>headline</th>\n",
       "      <th>author</th>\n",
       "      <th>state</th>\n",
       "      <th>city</th>\n",
       "      <th>date</th>\n",
       "      <th>updated date</th>\n",
       "      <th>paragraph</th>\n",
       "    </tr>\n",
       "  </thead>\n",
       "  <tbody>\n",
       "    <tr>\n",
       "      <th>0</th>\n",
       "      <td>AIMIM hopes to create Muslim leadership in U.P.</td>\n",
       "      <td>Staff Reporter</td>\n",
       "      <td>Telangana</td>\n",
       "      <td>HYDERABAD</td>\n",
       "      <td>January 12, 2022 23:58 IST</td>\n",
       "      <td>January 12, 2022 23:59 IST</td>\n",
       "      <td>The All India Majlis-e-Ittehadul Muslimeen thr...</td>\n",
       "    </tr>\n",
       "    <tr>\n",
       "      <th>1</th>\n",
       "      <td>Dissent within Goa BJP on taking MGP along in ...</td>\n",
       "      <td>Shoumojit Banerjee</td>\n",
       "      <td>Other States</td>\n",
       "      <td>Pune</td>\n",
       "      <td>March 11, 2022 20:28 IST</td>\n",
       "      <td>March 11, 2022 20:28 IST</td>\n",
       "      <td>BJP’s Goa election in-charge Devendra Fadnavis...</td>\n",
       "    </tr>\n",
       "    <tr>\n",
       "      <th>2</th>\n",
       "      <td>Four militants killed in three operations in J&amp;K</td>\n",
       "      <td>Peerzada Ashiq</td>\n",
       "      <td>Other States</td>\n",
       "      <td>SRINAGAR</td>\n",
       "      <td>March 12, 2022 11:07 IST</td>\n",
       "      <td>March 12, 2022 23:10 IST</td>\n",
       "      <td>Security personnel stand guard after a grenade...</td>\n",
       "    </tr>\n",
       "    <tr>\n",
       "      <th>3</th>\n",
       "      <td>NIA arrests six over trafficking of Rohingya M...</td>\n",
       "      <td>Devesh K. Pandey</td>\n",
       "      <td>National</td>\n",
       "      <td>NEW DELHI</td>\n",
       "      <td>March 12, 2022 12:55 IST</td>\n",
       "      <td>March 12, 2022 13:36 IST</td>\n",
       "      <td>A Border Security Force official questions Roh...</td>\n",
       "    </tr>\n",
       "    <tr>\n",
       "      <th>4</th>\n",
       "      <td>Char Dham road project: Supreme Court asks ex-...</td>\n",
       "      <td>Legal Correspondent</td>\n",
       "      <td>National</td>\n",
       "      <td>NEW DELHI</td>\n",
       "      <td>March 11, 2022 19:59 IST</td>\n",
       "      <td>March 12, 2022 00:47 IST</td>\n",
       "      <td>Rampant cutting of the hills near Rudraprayag ...</td>\n",
       "    </tr>\n",
       "    <tr>\n",
       "      <th>5</th>\n",
       "      <td>Lakhimpur witness ‘attacked’: plea</td>\n",
       "      <td>Legal Correspondent</td>\n",
       "      <td>National</td>\n",
       "      <td>NEW DELHI</td>\n",
       "      <td>March 11, 2022 12:57 IST</td>\n",
       "      <td>March 12, 2022 00:48 IST</td>\n",
       "      <td>Ashish Mishra (centre) and other accused in th...</td>\n",
       "    </tr>\n",
       "    <tr>\n",
       "      <th>6</th>\n",
       "      <td>600 Indian students stranded in Sumy finally b...</td>\n",
       "      <td>Special Correspondent</td>\n",
       "      <td>National</td>\n",
       "      <td>NEW DELHI</td>\n",
       "      <td>March 11, 2022 16:18 IST</td>\n",
       "      <td>March 12, 2022 00:49 IST</td>\n",
       "      <td>Students who were rescued from the conflict zo...</td>\n",
       "    </tr>\n",
       "    <tr>\n",
       "      <th>7</th>\n",
       "      <td>Gold tumbles ₹ 200; silver jumps ₹ 193</td>\n",
       "      <td>PTI</td>\n",
       "      <td>Markets</td>\n",
       "      <td>New Delhi</td>\n",
       "      <td>March 11, 2022 17:20 IST</td>\n",
       "      <td>March 11, 2022 17:20 IST</td>\n",
       "      <td>Woman trying gold ornaments at Musaddilal Jewe...</td>\n",
       "    </tr>\n",
       "    <tr>\n",
       "      <th>8</th>\n",
       "      <td>India's sugar exports accelerate on global pri...</td>\n",
       "      <td>Reuters</td>\n",
       "      <td>Industry</td>\n",
       "      <td>MUMBAI</td>\n",
       "      <td>March 10, 2022 21:17 IST</td>\n",
       "      <td>March 10, 2022 23:11 IST</td>\n",
       "      <td>A worker checks the flow of sugar inside the G...</td>\n",
       "    </tr>\n",
       "  </tbody>\n",
       "</table>\n",
       "</div>"
      ],
      "text/plain": [
       "                                            headline                 author  \\\n",
       "0    AIMIM hopes to create Muslim leadership in U.P.         Staff Reporter   \n",
       "1  Dissent within Goa BJP on taking MGP along in ...     Shoumojit Banerjee   \n",
       "2   Four militants killed in three operations in J&K         Peerzada Ashiq   \n",
       "3  NIA arrests six over trafficking of Rohingya M...       Devesh K. Pandey   \n",
       "4  Char Dham road project: Supreme Court asks ex-...    Legal Correspondent   \n",
       "5                 Lakhimpur witness ‘attacked’: plea    Legal Correspondent   \n",
       "6  600 Indian students stranded in Sumy finally b...  Special Correspondent   \n",
       "7             Gold tumbles ₹ 200; silver jumps ₹ 193                    PTI   \n",
       "8  India's sugar exports accelerate on global pri...                Reuters   \n",
       "\n",
       "          state       city                        date  \\\n",
       "0     Telangana  HYDERABAD  January 12, 2022 23:58 IST   \n",
       "1  Other States       Pune    March 11, 2022 20:28 IST   \n",
       "2  Other States   SRINAGAR    March 12, 2022 11:07 IST   \n",
       "3      National  NEW DELHI    March 12, 2022 12:55 IST   \n",
       "4      National  NEW DELHI    March 11, 2022 19:59 IST   \n",
       "5      National  NEW DELHI    March 11, 2022 12:57 IST   \n",
       "6      National  NEW DELHI    March 11, 2022 16:18 IST   \n",
       "7       Markets  New Delhi    March 11, 2022 17:20 IST   \n",
       "8      Industry     MUMBAI    March 10, 2022 21:17 IST   \n",
       "\n",
       "                 updated date  \\\n",
       "0  January 12, 2022 23:59 IST   \n",
       "1    March 11, 2022 20:28 IST   \n",
       "2    March 12, 2022 23:10 IST   \n",
       "3    March 12, 2022 13:36 IST   \n",
       "4    March 12, 2022 00:47 IST   \n",
       "5    March 12, 2022 00:48 IST   \n",
       "6    March 12, 2022 00:49 IST   \n",
       "7    March 11, 2022 17:20 IST   \n",
       "8    March 10, 2022 23:11 IST   \n",
       "\n",
       "                                           paragraph  \n",
       "0  The All India Majlis-e-Ittehadul Muslimeen thr...  \n",
       "1  BJP’s Goa election in-charge Devendra Fadnavis...  \n",
       "2  Security personnel stand guard after a grenade...  \n",
       "3  A Border Security Force official questions Roh...  \n",
       "4  Rampant cutting of the hills near Rudraprayag ...  \n",
       "5  Ashish Mishra (centre) and other accused in th...  \n",
       "6  Students who were rescued from the conflict zo...  \n",
       "7  Woman trying gold ornaments at Musaddilal Jewe...  \n",
       "8  A worker checks the flow of sugar inside the G...  "
      ]
     },
     "execution_count": 17,
     "metadata": {},
     "output_type": "execute_result"
    }
   ],
   "source": [
    "df.head(10)"
   ]
  }
 ],
 "metadata": {
  "kernelspec": {
   "display_name": "Python 3 (ipykernel)",
   "language": "python",
   "name": "python3"
  },
  "language_info": {
   "codemirror_mode": {
    "name": "ipython",
    "version": 3
   },
   "file_extension": ".py",
   "mimetype": "text/x-python",
   "name": "python",
   "nbconvert_exporter": "python",
   "pygments_lexer": "ipython3",
   "version": "3.8.11"
  }
 },
 "nbformat": 4,
 "nbformat_minor": 5
}
