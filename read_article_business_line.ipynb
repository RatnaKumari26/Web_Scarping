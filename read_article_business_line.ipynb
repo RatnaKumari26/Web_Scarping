{
 "cells": [
  {
   "cell_type": "code",
   "execution_count": 1,
   "id": "a39a7bcf",
   "metadata": {},
   "outputs": [],
   "source": [
    "import requests\n",
    "import pandas as pd"
   ]
  },
  {
   "cell_type": "code",
   "execution_count": 2,
   "id": "490cde7d",
   "metadata": {},
   "outputs": [],
   "source": [
    "from bs4 import BeautifulSoup\n",
    "from bs4.element import Tag, NavigableString"
   ]
  },
  {
   "cell_type": "code",
   "execution_count": 3,
   "id": "744b8553",
   "metadata": {},
   "outputs": [],
   "source": [
    "import pandas as pd\n",
    "from tqdm import tqdm"
   ]
  },
  {
   "cell_type": "code",
   "execution_count": 4,
   "id": "a0555087",
   "metadata": {},
   "outputs": [],
   "source": [
    "def read_url_content(url):\n",
    "    source = requests.get(url)\n",
    "    soup = BeautifulSoup(source.content,'html.parser')\n",
    "    soup.prettify()\n",
    "    return soup"
   ]
  },
  {
   "cell_type": "code",
   "execution_count": 5,
   "id": "3762cfb5",
   "metadata": {},
   "outputs": [],
   "source": [
    "url= \"https://www.thehindubusinessline.com/economy/agri-business/itc-targets-to-create-5000-fpos-in-5-years-to-offer-market-linkage/article65211348.ece?cx_testId=7&cx_testVariant=cx_1&cx_artPos=1#cxrecs_s\"\n",
    "content = read_url_content(url)"
   ]
  },
  {
   "cell_type": "code",
   "execution_count": 6,
   "id": "aaf2edc9",
   "metadata": {},
   "outputs": [],
   "source": [
    "def extract_para(soup_data):\n",
    "    \"\"\"extract the paragraph content present in the html source data in bs4.BeautifulSoup format. \n",
    "    \"\"\"\n",
    "    ## Find div[ids] for content-body id\n",
    "    article=soup_data.find('div',class_=\"maincontainer\")\n",
    "    summary=article.find('div',id=\"ControlPara\",class_=\"contentbody\")\n",
    "    article_summary=summary.find_all('p')\n",
    "    for data in soup_data(['i','a']):\n",
    "        data.decompose()\n",
    "    return ' '.join(soup_data.stripped_strings)"
   ]
  },
  {
   "cell_type": "code",
   "execution_count": 7,
   "id": "8b995304",
   "metadata": {},
   "outputs": [],
   "source": [
    "url = \"https://www.thehindubusinessline.com/economy/agri-business/itc-targets-to-create-5000-fpos-in-5-years-to-offer-market-linkage/article65211348.ece?cx_testId=7&cx_testVariant=cx_1&cx_artPos=1#cxrecs_s\""
   ]
  },
  {
   "cell_type": "code",
   "execution_count": 8,
   "id": "3c56e768",
   "metadata": {},
   "outputs": [],
   "source": [
    "content=read_url_content(url)"
   ]
  },
  {
   "cell_type": "code",
   "execution_count": 9,
   "id": "f84c1992",
   "metadata": {},
   "outputs": [
    {
     "data": {
      "text/plain": [
       "\"ITC targets to create 5,000 FPOs in 5 years, to offer market linkage - The Hindu BusinessLine More Search More ITC targets to create 5,000 FPOs in 5 years, to offer market linkage | Updated on: Mar 10, 2022 Rajnikant Rai, CEO of ITC’s agribusiness division × ITC has developed an app for farmers. A pilot project is being done with it and the app will soon be launched as the company targets to partner with 5,000 FPOs over the next five years, many to be converted from existing 6,800 e-choupals leveraging the company’s strong presence in agri/food value chain. Rajnikant Rai, CEO of ITC’s agribusiness division speaks to on the company’s plan after farm laws withdrawal and the impact of Russia-Ukraine war on wheat prices. Excerpts: After the farm laws withdrawal, what is happening on the ground? How companies like ITC are operating to buy the crops? We are working under the framework of farm laws (mainly APMC Act) within each State. We are following those laws, taxation, rules and regulations even though they differ from State to State. Following rules is one part of agri marketing, but paying different rates of mandi fees in business is another aspect as these charges also add on to the procurement costs. How do you adjust that? It is a very wrong notion that the tax (mandi fee) charged by a State for a particular crop is higher than another State, the product (of higher mandi fee State) becomes non-competitive. At the end of the day, market/consumer price has to adjust all these factors. For instance, a crop if purchased directly from farmers in Gujarat where there is no tax farmers will receive better realisation compared to another State where there is mandi fees. A company will not pay if one crop is higher because of taxes or yield etc in one State compared to another. Does it mean wheat farmer in Gujarat will get higher for their crop than Madhya Pradesh where there is mandi fee? There are multiple factors – what is the demand in a State, what is the surplus, where the surplus is getting sold, what is the variety, what is government procurement – and all these influence the farm-gate price of a crop, taxation is not the only aspect. There is no direct correlation that farmers in a State get a better price if there is lower tax compared to other States. Convenience of trade is a more influential factor on prices than taxation. Why are some States still restrict direct buying? Most of the States have come out with the policy where they allow traders/companies to directly buy from the farmers. The difference is some States do not charge any fees while some others charge normal mandi fees even for trade outside mandis. So with the farm laws gone, for companies the challenge is lesser than small farmers who do not have large quantity to sell and are mostly dependent on aggregators. As the government’s policy on farmer producer organisations (FPOs) are such that these would take away the role of aggreegators, how do you see company like ITC in buying directly from farmers? We have a plan to build a network of 4000-5000 FPOs in next five years and we will leverage from our experience of directly dealing with farmers through e-choupals. We have 6,800 e-choupals across nine States, many of them may be converted to FPOs as they have expressed their willingness to convert, while others would continue to work as usual. Currently most of the FPOs, created by different agencies under the government scheme, are facing the challenge of market linkage. What difference ITC will bring when it partners with FPOs? We believe, as the largest player in the agri sector dealing with 22 crops/products (dairy, marine, horticulture, agriculture products), since we have the advantage of taking care of the buying requirement in the whole value chain our tie-ups with FPOs will succeed. We will be able to provide much better linkages to the market for the FPOs.\\nWe are handholding them to get organised, form the company, registered with the government to avail benefits of the FPO scheme, but they will function independently as a separate entity. We have a pilot app in operation through which farmers are provided knowledge to access inputs, improve productivity, financial inclusion and training. Besides FPOs, even farmers will be able to have access to the App. How do you see wheat prices as tension in Ukraine led to record jump in global price? Prices are likely to be firm, at least for next 5-6 months. Till the issue of Ukraine-Russia settles down, Indian wheat will be in demand. The prices ruling today may continue for next 2-3 months. Government is comfortable with its stock and the pressure to support the farmers through MSP mechanism may not be there. Farmers have the option to sell either to government or private trader without any pressure of price realisation. Published on March 10, 2022 Follow us on , , , and . You can also download our or SHARE COMMENTS Comments will be moderated by The Hindu editorial team. Comments that are abusive, personal, incendiary or irrelevant cannot be published. Please write complete sentences. Do not type comments in all capital letters, or in all lower case letters,\\nor using abbreviated text. (example: u cannot substitute for you, d is not 'the', n is not 'and'). We may remove hyperlinks within comments. Please use a genuine email ID and provide your name, to avoid rejection. You May Also Like Recommended for you Alt energy Follow Us: TRENDING TODAY TRENDING THIS WEEK LATEST NEWS SECTIONS Group Site: This Site: Comments to: Copyright © 2022, THG PUBLISHING PVT LTD.\""
      ]
     },
     "execution_count": 9,
     "metadata": {},
     "output_type": "execute_result"
    }
   ],
   "source": [
    "para=extract_para(content)\n",
    "para"
   ]
  },
  {
   "cell_type": "code",
   "execution_count": 10,
   "id": "32f1b6cd",
   "metadata": {},
   "outputs": [],
   "source": [
    "def extract_headline(soup_data):\n",
    "    tag = soup_data.find('div',class_=\"w-two-thirds-l cl\").find('h1',itemprop=\"name\",class_=\"tp-title-inf\")\n",
    "    headline = tag.text.strip()\n",
    "    return headline"
   ]
  },
  {
   "cell_type": "code",
   "execution_count": 11,
   "id": "9a754df5",
   "metadata": {},
   "outputs": [],
   "source": [
    "def extract_reporter(soup_data):\n",
    "    author = soup_data.find('div',class_=\"bi-line\").find('span',class_=\"author-img-name 1\").find('a').text.strip()\n",
    "    return author"
   ]
  },
  {
   "cell_type": "code",
   "execution_count": 12,
   "id": "b9d28c14",
   "metadata": {},
   "outputs": [],
   "source": [
    "def extract_updated_date(soup_data):\n",
    "    updated_date=soup_data.find('span',class_=\"update-date\").find('none').find('span',class_=\"teaser-text update-time\").text.strip()\n",
    "    return updated_date"
   ]
  },
  {
   "cell_type": "code",
   "execution_count": 13,
   "id": "0b065f9d",
   "metadata": {},
   "outputs": [
    {
     "data": {
      "text/plain": [
       "{'headline': 'ITC targets to create 5,000 FPOs in 5 years, to offer market linkage',\n",
       " 'author': 'Prabhudutta Mishra',\n",
       " 'updated date': 'Updated on:\\n\\nMar 10, 2022',\n",
       " 'paragraph': \"ITC targets to create 5,000 FPOs in 5 years, to offer market linkage - The Hindu BusinessLine More Search More ITC targets to create 5,000 FPOs in 5 years, to offer market linkage | Updated on: Mar 10, 2022 Rajnikant Rai, CEO of ITC’s agribusiness division × ITC has developed an app for farmers. A pilot project is being done with it and the app will soon be launched as the company targets to partner with 5,000 FPOs over the next five years, many to be converted from existing 6,800 e-choupals leveraging the company’s strong presence in agri/food value chain. Rajnikant Rai, CEO of ITC’s agribusiness division speaks to on the company’s plan after farm laws withdrawal and the impact of Russia-Ukraine war on wheat prices. Excerpts: After the farm laws withdrawal, what is happening on the ground? How companies like ITC are operating to buy the crops? We are working under the framework of farm laws (mainly APMC Act) within each State. We are following those laws, taxation, rules and regulations even though they differ from State to State. Following rules is one part of agri marketing, but paying different rates of mandi fees in business is another aspect as these charges also add on to the procurement costs. How do you adjust that? It is a very wrong notion that the tax (mandi fee) charged by a State for a particular crop is higher than another State, the product (of higher mandi fee State) becomes non-competitive. At the end of the day, market/consumer price has to adjust all these factors. For instance, a crop if purchased directly from farmers in Gujarat where there is no tax farmers will receive better realisation compared to another State where there is mandi fees. A company will not pay if one crop is higher because of taxes or yield etc in one State compared to another. Does it mean wheat farmer in Gujarat will get higher for their crop than Madhya Pradesh where there is mandi fee? There are multiple factors – what is the demand in a State, what is the surplus, where the surplus is getting sold, what is the variety, what is government procurement – and all these influence the farm-gate price of a crop, taxation is not the only aspect. There is no direct correlation that farmers in a State get a better price if there is lower tax compared to other States. Convenience of trade is a more influential factor on prices than taxation. Why are some States still restrict direct buying? Most of the States have come out with the policy where they allow traders/companies to directly buy from the farmers. The difference is some States do not charge any fees while some others charge normal mandi fees even for trade outside mandis. So with the farm laws gone, for companies the challenge is lesser than small farmers who do not have large quantity to sell and are mostly dependent on aggregators. As the government’s policy on farmer producer organisations (FPOs) are such that these would take away the role of aggreegators, how do you see company like ITC in buying directly from farmers? We have a plan to build a network of 4000-5000 FPOs in next five years and we will leverage from our experience of directly dealing with farmers through e-choupals. We have 6,800 e-choupals across nine States, many of them may be converted to FPOs as they have expressed their willingness to convert, while others would continue to work as usual. Currently most of the FPOs, created by different agencies under the government scheme, are facing the challenge of market linkage. What difference ITC will bring when it partners with FPOs? We believe, as the largest player in the agri sector dealing with 22 crops/products (dairy, marine, horticulture, agriculture products), since we have the advantage of taking care of the buying requirement in the whole value chain our tie-ups with FPOs will succeed. We will be able to provide much better linkages to the market for the FPOs.\\nWe are handholding them to get organised, form the company, registered with the government to avail benefits of the FPO scheme, but they will function independently as a separate entity. We have a pilot app in operation through which farmers are provided knowledge to access inputs, improve productivity, financial inclusion and training. Besides FPOs, even farmers will be able to have access to the App. How do you see wheat prices as tension in Ukraine led to record jump in global price? Prices are likely to be firm, at least for next 5-6 months. Till the issue of Ukraine-Russia settles down, Indian wheat will be in demand. The prices ruling today may continue for next 2-3 months. Government is comfortable with its stock and the pressure to support the farmers through MSP mechanism may not be there. Farmers have the option to sell either to government or private trader without any pressure of price realisation. Published on March 10, 2022 Follow us on , , , and . You can also download our or SHARE COMMENTS Comments will be moderated by The Hindu editorial team. Comments that are abusive, personal, incendiary or irrelevant cannot be published. Please write complete sentences. Do not type comments in all capital letters, or in all lower case letters,\\nor using abbreviated text. (example: u cannot substitute for you, d is not 'the', n is not 'and'). We may remove hyperlinks within comments. Please use a genuine email ID and provide your name, to avoid rejection. You May Also Like Recommended for you Alt energy Follow Us: TRENDING TODAY TRENDING THIS WEEK LATEST NEWS SECTIONS Group Site: This Site: Comments to: Copyright © 2022, THG PUBLISHING PVT LTD.\"}"
      ]
     },
     "execution_count": 13,
     "metadata": {},
     "output_type": "execute_result"
    }
   ],
   "source": [
    "def extract_content_from_url(url):\n",
    "    content = read_url_content(url)\n",
    "    data = {}\n",
    "    data[\"headline\"] = extract_headline(content)\n",
    "    data[\"author\"] = extract_reporter(content)\n",
    "    data[\"updated date\"] = extract_updated_date(content)\n",
    "    data[\"paragraph\"] = extract_para(content)\n",
    "    return data\n",
    "extract_content_from_url(url)"
   ]
  },
  {
   "cell_type": "code",
   "execution_count": 14,
   "id": "52d7af41",
   "metadata": {},
   "outputs": [],
   "source": [
    "urls=[\"https://www.thehindubusinessline.com/markets/stock-markets/market-to-open-moderately-down/article65223455.ece\",\n",
    "      \"https://www.thehindubusinessline.com/economy/agri-business/itc-targets-to-create-5000-fpos-in-5-years-to-offer-market-linkage/article65211348.ece?cx_testId=7&cx_testVariant=cx_1&cx_artPos=1#cxrecs_s\",\n",
    "      \"https://www.thehindubusinessline.com/markets/stock-markets/stocks-that-will-see-action-today-march-14/article65223460.ece\",\n",
    "      \"https://www.thehindubusinessline.com/books/the-confident-mind-a-battle-tested-guide-to-unshakable-performance/article65210713.ece\"]"
   ]
  },
  {
   "cell_type": "code",
   "execution_count": 15,
   "id": "2ca681e2",
   "metadata": {},
   "outputs": [
    {
     "name": "stderr",
     "output_type": "stream",
     "text": [
      "100%|█████████████████████████████████████████████| 4/4 [00:00<00:00,  5.38it/s]\n"
     ]
    }
   ],
   "source": [
    "content = [extract_content_from_url(i) for i in tqdm(urls)]"
   ]
  },
  {
   "cell_type": "code",
   "execution_count": 16,
   "id": "00e1e1ce",
   "metadata": {},
   "outputs": [
    {
     "data": {
      "text/plain": [
       "(4, 4)"
      ]
     },
     "execution_count": 16,
     "metadata": {},
     "output_type": "execute_result"
    }
   ],
   "source": [
    "df = pd.DataFrame(content)\n",
    "df.shape"
   ]
  },
  {
   "cell_type": "code",
   "execution_count": 17,
   "id": "fb6ac95b",
   "metadata": {},
   "outputs": [
    {
     "data": {
      "text/html": [
       "<div>\n",
       "<style scoped>\n",
       "    .dataframe tbody tr th:only-of-type {\n",
       "        vertical-align: middle;\n",
       "    }\n",
       "\n",
       "    .dataframe tbody tr th {\n",
       "        vertical-align: top;\n",
       "    }\n",
       "\n",
       "    .dataframe thead th {\n",
       "        text-align: right;\n",
       "    }\n",
       "</style>\n",
       "<table border=\"1\" class=\"dataframe\">\n",
       "  <thead>\n",
       "    <tr style=\"text-align: right;\">\n",
       "      <th></th>\n",
       "      <th>headline</th>\n",
       "      <th>author</th>\n",
       "      <th>updated date</th>\n",
       "      <th>paragraph</th>\n",
       "    </tr>\n",
       "  </thead>\n",
       "  <tbody>\n",
       "    <tr>\n",
       "      <th>0</th>\n",
       "      <td>Market to open moderately down</td>\n",
       "      <td>K. S. Badri Narayanan</td>\n",
       "      <td>Updated on:\\n\\nMar 14, 2022</td>\n",
       "      <td>Market to open moderately down - The Hindu Bus...</td>\n",
       "    </tr>\n",
       "    <tr>\n",
       "      <th>1</th>\n",
       "      <td>ITC targets to create 5,000 FPOs in 5 years, t...</td>\n",
       "      <td>Prabhudutta Mishra</td>\n",
       "      <td>Updated on:\\n\\nMar 10, 2022</td>\n",
       "      <td>ITC targets to create 5,000 FPOs in 5 years, t...</td>\n",
       "    </tr>\n",
       "    <tr>\n",
       "      <th>2</th>\n",
       "      <td>Stocks that will see action today (March 14)</td>\n",
       "      <td>K. S. Badri Narayanan</td>\n",
       "      <td>Updated on:\\n\\nMar 14, 2022</td>\n",
       "      <td>Stocks that will see action today (March 14) -...</td>\n",
       "    </tr>\n",
       "    <tr>\n",
       "      <th>3</th>\n",
       "      <td>The Confident Mind: A Battle Tested Guide to U...</td>\n",
       "      <td>Cyrus A Minwalla</td>\n",
       "      <td>Updated on:\\n\\nMar 10, 2022</td>\n",
       "      <td>The Confident Mind: A Battle Tested Guide to U...</td>\n",
       "    </tr>\n",
       "  </tbody>\n",
       "</table>\n",
       "</div>"
      ],
      "text/plain": [
       "                                            headline                 author  \\\n",
       "0                     Market to open moderately down  K. S. Badri Narayanan   \n",
       "1  ITC targets to create 5,000 FPOs in 5 years, t...     Prabhudutta Mishra   \n",
       "2       Stocks that will see action today (March 14)  K. S. Badri Narayanan   \n",
       "3  The Confident Mind: A Battle Tested Guide to U...       Cyrus A Minwalla   \n",
       "\n",
       "                  updated date  \\\n",
       "0  Updated on:\\n\\nMar 14, 2022   \n",
       "1  Updated on:\\n\\nMar 10, 2022   \n",
       "2  Updated on:\\n\\nMar 14, 2022   \n",
       "3  Updated on:\\n\\nMar 10, 2022   \n",
       "\n",
       "                                           paragraph  \n",
       "0  Market to open moderately down - The Hindu Bus...  \n",
       "1  ITC targets to create 5,000 FPOs in 5 years, t...  \n",
       "2  Stocks that will see action today (March 14) -...  \n",
       "3  The Confident Mind: A Battle Tested Guide to U...  "
      ]
     },
     "execution_count": 17,
     "metadata": {},
     "output_type": "execute_result"
    }
   ],
   "source": [
    "df.head()"
   ]
  },
  {
   "cell_type": "code",
   "execution_count": null,
   "id": "4da9e6da",
   "metadata": {},
   "outputs": [],
   "source": []
  }
 ],
 "metadata": {
  "kernelspec": {
   "display_name": "Python 3 (ipykernel)",
   "language": "python",
   "name": "python3"
  },
  "language_info": {
   "codemirror_mode": {
    "name": "ipython",
    "version": 3
   },
   "file_extension": ".py",
   "mimetype": "text/x-python",
   "name": "python",
   "nbconvert_exporter": "python",
   "pygments_lexer": "ipython3",
   "version": "3.8.11"
  }
 },
 "nbformat": 4,
 "nbformat_minor": 5
}
